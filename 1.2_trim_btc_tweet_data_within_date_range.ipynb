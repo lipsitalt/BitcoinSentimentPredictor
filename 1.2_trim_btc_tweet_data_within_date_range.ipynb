{
 "cells": [
  {
   "cell_type": "code",
   "execution_count": 19,
   "metadata": {},
   "outputs": [],
   "source": [
    "import pandas as pd"
   ]
  },
  {
   "cell_type": "code",
   "execution_count": 20,
   "metadata": {},
   "outputs": [],
   "source": [
    "df = pd.read_csv(r'data/rawdata/0_D_raw_btc_tweet_data.csv', sep=';', usecols=['timestamp','text'], parse_dates=['timestamp'], dtype={'text': str})"
   ]
  },
  {
   "cell_type": "code",
   "execution_count": 21,
   "metadata": {},
   "outputs": [
    {
     "data": {
      "text/html": [
       "<div>\n",
       "<style scoped>\n",
       "    .dataframe tbody tr th:only-of-type {\n",
       "        vertical-align: middle;\n",
       "    }\n",
       "\n",
       "    .dataframe tbody tr th {\n",
       "        vertical-align: top;\n",
       "    }\n",
       "\n",
       "    .dataframe thead th {\n",
       "        text-align: right;\n",
       "    }\n",
       "</style>\n",
       "<table border=\"1\" class=\"dataframe\">\n",
       "  <thead>\n",
       "    <tr style=\"text-align: right;\">\n",
       "      <th></th>\n",
       "      <th>timestamp</th>\n",
       "      <th>text</th>\n",
       "    </tr>\n",
       "  </thead>\n",
       "  <tbody>\n",
       "    <tr>\n",
       "      <th>0</th>\n",
       "      <td>2019-05-27 11:49:14+00:00</td>\n",
       "      <td>È appena uscito un nuovo video! LES CRYPTOMONN...</td>\n",
       "    </tr>\n",
       "    <tr>\n",
       "      <th>1</th>\n",
       "      <td>2019-05-27 11:49:18+00:00</td>\n",
       "      <td>Cardano: Digitize Currencies; EOS https://t.co...</td>\n",
       "    </tr>\n",
       "    <tr>\n",
       "      <th>2</th>\n",
       "      <td>2019-05-27 11:49:06+00:00</td>\n",
       "      <td>Another Test tweet that wasn't caught in the s...</td>\n",
       "    </tr>\n",
       "    <tr>\n",
       "      <th>3</th>\n",
       "      <td>2019-05-27 11:49:22+00:00</td>\n",
       "      <td>Current Crypto Prices! \\n\\nBTC: $8721.99 USD\\n...</td>\n",
       "    </tr>\n",
       "    <tr>\n",
       "      <th>4</th>\n",
       "      <td>2019-05-27 11:49:23+00:00</td>\n",
       "      <td>Spiv (Nosar Baz): BITCOIN Is An Asset &amp;amp; NO...</td>\n",
       "    </tr>\n",
       "  </tbody>\n",
       "</table>\n",
       "</div>"
      ],
      "text/plain": [
       "                  timestamp                                               text\n",
       "0 2019-05-27 11:49:14+00:00  È appena uscito un nuovo video! LES CRYPTOMONN...\n",
       "1 2019-05-27 11:49:18+00:00  Cardano: Digitize Currencies; EOS https://t.co...\n",
       "2 2019-05-27 11:49:06+00:00  Another Test tweet that wasn't caught in the s...\n",
       "3 2019-05-27 11:49:22+00:00  Current Crypto Prices! \\n\\nBTC: $8721.99 USD\\n...\n",
       "4 2019-05-27 11:49:23+00:00  Spiv (Nosar Baz): BITCOIN Is An Asset &amp; NO..."
      ]
     },
     "execution_count": 21,
     "metadata": {},
     "output_type": "execute_result"
    }
   ],
   "source": [
    "df.head()"
   ]
  },
  {
   "cell_type": "code",
   "execution_count": 22,
   "metadata": {},
   "outputs": [
    {
     "name": "stdout",
     "output_type": "stream",
     "text": [
      "<class 'pandas.core.frame.DataFrame'>\n",
      "RangeIndex: 20165013 entries, 0 to 20165012\n",
      "Data columns (total 2 columns):\n",
      " #   Column     Dtype              \n",
      "---  ------     -----              \n",
      " 0   timestamp  datetime64[ns, UTC]\n",
      " 1   text       object             \n",
      "dtypes: datetime64[ns, UTC](1), object(1)\n",
      "memory usage: 307.7+ MB\n"
     ]
    }
   ],
   "source": [
    "df.info()"
   ]
  },
  {
   "cell_type": "code",
   "execution_count": 23,
   "metadata": {},
   "outputs": [
    {
     "name": "stdout",
     "output_type": "stream",
     "text": [
      "Minimum Timestamp: 2007-04-19 07:14:38+00:00\n",
      "Maximum Timestamp: 2019-11-23 15:45:57+00:00\n"
     ]
    }
   ],
   "source": [
    "# Assuming \"timestamp\" is the name of the column\n",
    "min_timestamp = df['timestamp'].min()\n",
    "max_timestamp = df['timestamp'].max()\n",
    "\n",
    "print(f\"Minimum Timestamp: {min_timestamp}\")\n",
    "print(f\"Maximum Timestamp: {max_timestamp}\")"
   ]
  },
  {
   "cell_type": "code",
   "execution_count": 24,
   "metadata": {},
   "outputs": [
    {
     "name": "stdout",
     "output_type": "stream",
     "text": [
      "       year  month  record_count\n",
      "0    2007.0    4.0             1\n",
      "1    2009.0    1.0             4\n",
      "2    2009.0    2.0             1\n",
      "3    2009.0    6.0             5\n",
      "4    2009.0    9.0             1\n",
      "..      ...    ...           ...\n",
      "116  2019.0    7.0       2560831\n",
      "117  2019.0    8.0       2059752\n",
      "118  2019.0    9.0       2047374\n",
      "119  2019.0   10.0       1880491\n",
      "120  2019.0   11.0       1322463\n",
      "\n",
      "[121 rows x 3 columns]\n"
     ]
    }
   ],
   "source": [
    "# Extract year and month from 'timestamp' and create new columns\n",
    "df['year'] = df['timestamp'].dt.year\n",
    "df['month'] = df['timestamp'].dt.month\n",
    "\n",
    "# Group by year and month, and get the count of records in each group\n",
    "count_by_year_month = df.groupby(['year', 'month']).size().reset_index(name='record_count')\n",
    "\n",
    "# Display the result\n",
    "print(count_by_year_month)"
   ]
  },
  {
   "cell_type": "code",
   "execution_count": 25,
   "metadata": {},
   "outputs": [],
   "source": [
    "# Filter records between 2016-01-01 and 2019-03-29 (because tweets are available between these dates)\n",
    "start_date = '2013-05-01'\n",
    "end_date = '2019-11-01'\n",
    "filtered_df = df.loc[(df['timestamp'] >= start_date) & (df['timestamp'] <= end_date), ['timestamp', 'text']]"
   ]
  },
  {
   "cell_type": "code",
   "execution_count": 26,
   "metadata": {},
   "outputs": [
    {
     "data": {
      "text/html": [
       "<div>\n",
       "<style scoped>\n",
       "    .dataframe tbody tr th:only-of-type {\n",
       "        vertical-align: middle;\n",
       "    }\n",
       "\n",
       "    .dataframe tbody tr th {\n",
       "        vertical-align: top;\n",
       "    }\n",
       "\n",
       "    .dataframe thead th {\n",
       "        text-align: right;\n",
       "    }\n",
       "</style>\n",
       "<table border=\"1\" class=\"dataframe\">\n",
       "  <thead>\n",
       "    <tr style=\"text-align: right;\">\n",
       "      <th></th>\n",
       "      <th>timestamp</th>\n",
       "      <th>text</th>\n",
       "    </tr>\n",
       "  </thead>\n",
       "  <tbody>\n",
       "    <tr>\n",
       "      <th>0</th>\n",
       "      <td>2019-05-27 11:49:14+00:00</td>\n",
       "      <td>È appena uscito un nuovo video! LES CRYPTOMONN...</td>\n",
       "    </tr>\n",
       "    <tr>\n",
       "      <th>1</th>\n",
       "      <td>2019-05-27 11:49:18+00:00</td>\n",
       "      <td>Cardano: Digitize Currencies; EOS https://t.co...</td>\n",
       "    </tr>\n",
       "    <tr>\n",
       "      <th>2</th>\n",
       "      <td>2019-05-27 11:49:06+00:00</td>\n",
       "      <td>Another Test tweet that wasn't caught in the s...</td>\n",
       "    </tr>\n",
       "    <tr>\n",
       "      <th>3</th>\n",
       "      <td>2019-05-27 11:49:22+00:00</td>\n",
       "      <td>Current Crypto Prices! \\n\\nBTC: $8721.99 USD\\n...</td>\n",
       "    </tr>\n",
       "    <tr>\n",
       "      <th>4</th>\n",
       "      <td>2019-05-27 11:49:23+00:00</td>\n",
       "      <td>Spiv (Nosar Baz): BITCOIN Is An Asset &amp;amp; NO...</td>\n",
       "    </tr>\n",
       "  </tbody>\n",
       "</table>\n",
       "</div>"
      ],
      "text/plain": [
       "                  timestamp                                               text\n",
       "0 2019-05-27 11:49:14+00:00  È appena uscito un nuovo video! LES CRYPTOMONN...\n",
       "1 2019-05-27 11:49:18+00:00  Cardano: Digitize Currencies; EOS https://t.co...\n",
       "2 2019-05-27 11:49:06+00:00  Another Test tweet that wasn't caught in the s...\n",
       "3 2019-05-27 11:49:22+00:00  Current Crypto Prices! \\n\\nBTC: $8721.99 USD\\n...\n",
       "4 2019-05-27 11:49:23+00:00  Spiv (Nosar Baz): BITCOIN Is An Asset &amp; NO..."
      ]
     },
     "execution_count": 26,
     "metadata": {},
     "output_type": "execute_result"
    }
   ],
   "source": [
    "filtered_df.head()"
   ]
  },
  {
   "cell_type": "code",
   "execution_count": 27,
   "metadata": {},
   "outputs": [],
   "source": [
    "# Export the filtered data to a CSV file\n",
    "filtered_df.to_csv('data/rawdata/1_B_btc_tweet_data_2013-05-01_2019-11-01.csv', index=False)"
   ]
  },
  {
   "cell_type": "code",
   "execution_count": 28,
   "metadata": {},
   "outputs": [],
   "source": [
    "# %reset -f"
   ]
  }
 ],
 "metadata": {
  "kernelspec": {
   "display_name": "Python 3",
   "language": "python",
   "name": "python3"
  },
  "language_info": {
   "codemirror_mode": {
    "name": "ipython",
    "version": 3
   },
   "file_extension": ".py",
   "mimetype": "text/x-python",
   "name": "python",
   "nbconvert_exporter": "python",
   "pygments_lexer": "ipython3",
   "version": "3.12.0"
  },
  "orig_nbformat": 4
 },
 "nbformat": 4,
 "nbformat_minor": 2
}
