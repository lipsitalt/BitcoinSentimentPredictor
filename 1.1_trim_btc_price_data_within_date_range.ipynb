{
 "cells": [
  {
   "cell_type": "code",
   "execution_count": 1,
   "metadata": {},
   "outputs": [],
   "source": [
    "import pandas as pd"
   ]
  },
  {
   "cell_type": "code",
   "execution_count": 3,
   "metadata": {},
   "outputs": [],
   "source": [
    "df = pd.read_csv(r'data/rawdata/0_C_raw_btc_price_data.csv')"
   ]
  },
  {
   "cell_type": "code",
   "execution_count": 4,
   "metadata": {},
   "outputs": [
    {
     "data": {
      "text/html": [
       "<div>\n",
       "<style scoped>\n",
       "    .dataframe tbody tr th:only-of-type {\n",
       "        vertical-align: middle;\n",
       "    }\n",
       "\n",
       "    .dataframe tbody tr th {\n",
       "        vertical-align: top;\n",
       "    }\n",
       "\n",
       "    .dataframe thead th {\n",
       "        text-align: right;\n",
       "    }\n",
       "</style>\n",
       "<table border=\"1\" class=\"dataframe\">\n",
       "  <thead>\n",
       "    <tr style=\"text-align: right;\">\n",
       "      <th></th>\n",
       "      <th>Timestamp</th>\n",
       "      <th>Open</th>\n",
       "      <th>High</th>\n",
       "      <th>Low</th>\n",
       "      <th>Close</th>\n",
       "      <th>Volume_(BTC)</th>\n",
       "      <th>Volume_(Currency)</th>\n",
       "      <th>Weighted_Price</th>\n",
       "    </tr>\n",
       "  </thead>\n",
       "  <tbody>\n",
       "    <tr>\n",
       "      <th>0</th>\n",
       "      <td>1325317920</td>\n",
       "      <td>4.39</td>\n",
       "      <td>4.39</td>\n",
       "      <td>4.39</td>\n",
       "      <td>4.39</td>\n",
       "      <td>0.455581</td>\n",
       "      <td>2.0</td>\n",
       "      <td>4.39</td>\n",
       "    </tr>\n",
       "    <tr>\n",
       "      <th>1</th>\n",
       "      <td>1325317980</td>\n",
       "      <td>NaN</td>\n",
       "      <td>NaN</td>\n",
       "      <td>NaN</td>\n",
       "      <td>NaN</td>\n",
       "      <td>NaN</td>\n",
       "      <td>NaN</td>\n",
       "      <td>NaN</td>\n",
       "    </tr>\n",
       "    <tr>\n",
       "      <th>2</th>\n",
       "      <td>1325318040</td>\n",
       "      <td>NaN</td>\n",
       "      <td>NaN</td>\n",
       "      <td>NaN</td>\n",
       "      <td>NaN</td>\n",
       "      <td>NaN</td>\n",
       "      <td>NaN</td>\n",
       "      <td>NaN</td>\n",
       "    </tr>\n",
       "    <tr>\n",
       "      <th>3</th>\n",
       "      <td>1325318100</td>\n",
       "      <td>NaN</td>\n",
       "      <td>NaN</td>\n",
       "      <td>NaN</td>\n",
       "      <td>NaN</td>\n",
       "      <td>NaN</td>\n",
       "      <td>NaN</td>\n",
       "      <td>NaN</td>\n",
       "    </tr>\n",
       "    <tr>\n",
       "      <th>4</th>\n",
       "      <td>1325318160</td>\n",
       "      <td>NaN</td>\n",
       "      <td>NaN</td>\n",
       "      <td>NaN</td>\n",
       "      <td>NaN</td>\n",
       "      <td>NaN</td>\n",
       "      <td>NaN</td>\n",
       "      <td>NaN</td>\n",
       "    </tr>\n",
       "  </tbody>\n",
       "</table>\n",
       "</div>"
      ],
      "text/plain": [
       "    Timestamp  Open  High   Low  Close  Volume_(BTC)  Volume_(Currency)  \\\n",
       "0  1325317920  4.39  4.39  4.39   4.39      0.455581                2.0   \n",
       "1  1325317980   NaN   NaN   NaN    NaN           NaN                NaN   \n",
       "2  1325318040   NaN   NaN   NaN    NaN           NaN                NaN   \n",
       "3  1325318100   NaN   NaN   NaN    NaN           NaN                NaN   \n",
       "4  1325318160   NaN   NaN   NaN    NaN           NaN                NaN   \n",
       "\n",
       "   Weighted_Price  \n",
       "0            4.39  \n",
       "1             NaN  \n",
       "2             NaN  \n",
       "3             NaN  \n",
       "4             NaN  "
      ]
     },
     "execution_count": 4,
     "metadata": {},
     "output_type": "execute_result"
    }
   ],
   "source": [
    "df.head()"
   ]
  },
  {
   "cell_type": "code",
   "execution_count": 5,
   "metadata": {},
   "outputs": [
    {
     "name": "stdout",
     "output_type": "stream",
     "text": [
      "<class 'pandas.core.frame.DataFrame'>\n",
      "RangeIndex: 4857377 entries, 0 to 4857376\n",
      "Data columns (total 8 columns):\n",
      " #   Column             Dtype  \n",
      "---  ------             -----  \n",
      " 0   Timestamp          int64  \n",
      " 1   Open               float64\n",
      " 2   High               float64\n",
      " 3   Low                float64\n",
      " 4   Close              float64\n",
      " 5   Volume_(BTC)       float64\n",
      " 6   Volume_(Currency)  float64\n",
      " 7   Weighted_Price     float64\n",
      "dtypes: float64(7), int64(1)\n",
      "memory usage: 296.5 MB\n"
     ]
    }
   ],
   "source": [
    "df.info()"
   ]
  },
  {
   "cell_type": "code",
   "execution_count": 6,
   "metadata": {},
   "outputs": [],
   "source": [
    "# 'Timestamp' is in Epoch format, convert to datetime\n",
    "df['Timestamp'] = pd.to_datetime(df['Timestamp'], unit='s')  # Convert epoch to datetime\n",
    "df['Timestamp'] = pd.to_datetime(df['Timestamp'])  # Mark datatype as Timestamp"
   ]
  },
  {
   "cell_type": "code",
   "execution_count": 7,
   "metadata": {},
   "outputs": [
    {
     "name": "stdout",
     "output_type": "stream",
     "text": [
      "     year  month  record_count\n",
      "0    2011     12             4\n",
      "1    2012      1           501\n",
      "2    2012      2           577\n",
      "3    2012      3           593\n",
      "4    2012      4           760\n",
      "..    ...    ...           ...\n",
      "107  2020     11         43052\n",
      "108  2020     12         44613\n",
      "109  2021      1         44617\n",
      "110  2021      2         40293\n",
      "111  2021      3         43115\n",
      "\n",
      "[112 rows x 3 columns]\n"
     ]
    },
    {
     "name": "stderr",
     "output_type": "stream",
     "text": [
      "/var/folders/7l/pjbgsg_54hn3t90_14n49nmm0000gq/T/ipykernel_54083/2633998304.py:5: SettingWithCopyWarning: \n",
      "A value is trying to be set on a copy of a slice from a DataFrame.\n",
      "Try using .loc[row_indexer,col_indexer] = value instead\n",
      "\n",
      "See the caveats in the documentation: https://pandas.pydata.org/pandas-docs/stable/user_guide/indexing.html#returning-a-view-versus-a-copy\n",
      "  df_filtered['year'] = df_filtered['Timestamp'].dt.year\n",
      "/var/folders/7l/pjbgsg_54hn3t90_14n49nmm0000gq/T/ipykernel_54083/2633998304.py:6: SettingWithCopyWarning: \n",
      "A value is trying to be set on a copy of a slice from a DataFrame.\n",
      "Try using .loc[row_indexer,col_indexer] = value instead\n",
      "\n",
      "See the caveats in the documentation: https://pandas.pydata.org/pandas-docs/stable/user_guide/indexing.html#returning-a-view-versus-a-copy\n",
      "  df_filtered['month'] = df_filtered['Timestamp'].dt.month\n"
     ]
    }
   ],
   "source": [
    "# Filter out empty columns\n",
    "df_filtered = df[df['Open'].notna() & (df['Open'] != '')]\n",
    "\n",
    "# Extract year and month from 'timestamp' and create new columns\n",
    "df_filtered['year'] = df_filtered['Timestamp'].dt.year\n",
    "df_filtered['month'] = df_filtered['Timestamp'].dt.month\n",
    "\n",
    "# Group by year and month, and get the count of records in each group\n",
    "count_by_year_month = df_filtered.groupby(['year', 'month']).size().reset_index(name='record_count')\n",
    "\n",
    "# Display the result\n",
    "print(count_by_year_month)"
   ]
  },
  {
   "cell_type": "code",
   "execution_count": 8,
   "metadata": {},
   "outputs": [],
   "source": [
    "# Filter records between 2016-01-01 and 2019-03-29 (because tweets are available between these dates)\n",
    "start_date = '2013-05-01'\n",
    "end_date = '2019-11-01'\n",
    "filtered_df = df[(df['Timestamp'] >= start_date) & (df['Timestamp'] <= end_date)]"
   ]
  },
  {
   "cell_type": "code",
   "execution_count": 9,
   "metadata": {},
   "outputs": [
    {
     "data": {
      "text/html": [
       "<div>\n",
       "<style scoped>\n",
       "    .dataframe tbody tr th:only-of-type {\n",
       "        vertical-align: middle;\n",
       "    }\n",
       "\n",
       "    .dataframe tbody tr th {\n",
       "        vertical-align: top;\n",
       "    }\n",
       "\n",
       "    .dataframe thead th {\n",
       "        text-align: right;\n",
       "    }\n",
       "</style>\n",
       "<table border=\"1\" class=\"dataframe\">\n",
       "  <thead>\n",
       "    <tr style=\"text-align: right;\">\n",
       "      <th></th>\n",
       "      <th>Timestamp</th>\n",
       "      <th>Open</th>\n",
       "      <th>High</th>\n",
       "      <th>Low</th>\n",
       "      <th>Close</th>\n",
       "      <th>Volume_(BTC)</th>\n",
       "      <th>Volume_(Currency)</th>\n",
       "      <th>Weighted_Price</th>\n",
       "    </tr>\n",
       "  </thead>\n",
       "  <tbody>\n",
       "    <tr>\n",
       "      <th>700808</th>\n",
       "      <td>2013-05-01 00:00:00</td>\n",
       "      <td>139.87</td>\n",
       "      <td>139.87</td>\n",
       "      <td>139.87</td>\n",
       "      <td>139.87</td>\n",
       "      <td>1.302965</td>\n",
       "      <td>182.245677</td>\n",
       "      <td>139.870000</td>\n",
       "    </tr>\n",
       "    <tr>\n",
       "      <th>700809</th>\n",
       "      <td>2013-05-01 00:01:00</td>\n",
       "      <td>NaN</td>\n",
       "      <td>NaN</td>\n",
       "      <td>NaN</td>\n",
       "      <td>NaN</td>\n",
       "      <td>NaN</td>\n",
       "      <td>NaN</td>\n",
       "      <td>NaN</td>\n",
       "    </tr>\n",
       "    <tr>\n",
       "      <th>700810</th>\n",
       "      <td>2013-05-01 00:02:00</td>\n",
       "      <td>139.87</td>\n",
       "      <td>139.87</td>\n",
       "      <td>138.60</td>\n",
       "      <td>138.60</td>\n",
       "      <td>4.000000</td>\n",
       "      <td>555.695770</td>\n",
       "      <td>138.923943</td>\n",
       "    </tr>\n",
       "    <tr>\n",
       "      <th>700811</th>\n",
       "      <td>2013-05-01 00:03:00</td>\n",
       "      <td>139.84</td>\n",
       "      <td>139.84</td>\n",
       "      <td>139.84</td>\n",
       "      <td>139.84</td>\n",
       "      <td>0.200000</td>\n",
       "      <td>27.968000</td>\n",
       "      <td>139.840000</td>\n",
       "    </tr>\n",
       "    <tr>\n",
       "      <th>700812</th>\n",
       "      <td>2013-05-01 00:04:00</td>\n",
       "      <td>139.84</td>\n",
       "      <td>139.84</td>\n",
       "      <td>139.84</td>\n",
       "      <td>139.84</td>\n",
       "      <td>0.800000</td>\n",
       "      <td>111.872000</td>\n",
       "      <td>139.840000</td>\n",
       "    </tr>\n",
       "  </tbody>\n",
       "</table>\n",
       "</div>"
      ],
      "text/plain": [
       "                 Timestamp    Open    High     Low   Close  Volume_(BTC)  \\\n",
       "700808 2013-05-01 00:00:00  139.87  139.87  139.87  139.87      1.302965   \n",
       "700809 2013-05-01 00:01:00     NaN     NaN     NaN     NaN           NaN   \n",
       "700810 2013-05-01 00:02:00  139.87  139.87  138.60  138.60      4.000000   \n",
       "700811 2013-05-01 00:03:00  139.84  139.84  139.84  139.84      0.200000   \n",
       "700812 2013-05-01 00:04:00  139.84  139.84  139.84  139.84      0.800000   \n",
       "\n",
       "        Volume_(Currency)  Weighted_Price  \n",
       "700808         182.245677      139.870000  \n",
       "700809                NaN             NaN  \n",
       "700810         555.695770      138.923943  \n",
       "700811          27.968000      139.840000  \n",
       "700812         111.872000      139.840000  "
      ]
     },
     "execution_count": 9,
     "metadata": {},
     "output_type": "execute_result"
    }
   ],
   "source": [
    "filtered_df.head()"
   ]
  },
  {
   "cell_type": "code",
   "execution_count": 28,
   "metadata": {},
   "outputs": [],
   "source": [
    "# Export the filtered data to a CSV file\n",
    "filtered_df.to_csv('data/rawdata/1_A_btc_price_data_2013-05-01_2019-11-01.csv', index=False)"
   ]
  }
 ],
 "metadata": {
  "kernelspec": {
   "display_name": "Python 3",
   "language": "python",
   "name": "python3"
  },
  "language_info": {
   "codemirror_mode": {
    "name": "ipython",
    "version": 3
   },
   "file_extension": ".py",
   "mimetype": "text/x-python",
   "name": "python",
   "nbconvert_exporter": "python",
   "pygments_lexer": "ipython3",
   "version": "3.12.0"
  },
  "orig_nbformat": 4
 },
 "nbformat": 4,
 "nbformat_minor": 2
}
