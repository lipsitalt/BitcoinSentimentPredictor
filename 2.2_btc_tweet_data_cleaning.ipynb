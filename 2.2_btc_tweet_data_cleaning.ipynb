{
 "cells": [
  {
   "cell_type": "code",
   "execution_count": 9,
   "metadata": {},
   "outputs": [],
   "source": [
    "import pandas as pd"
   ]
  },
  {
   "cell_type": "markdown",
   "metadata": {},
   "source": [
    "============= Load Data ============="
   ]
  },
  {
   "cell_type": "code",
   "execution_count": 10,
   "metadata": {},
   "outputs": [],
   "source": [
    "df = pd.read_csv(r'data/rawdata/1_B_btc_tweet_data_2013-05-01_2019-11-01.csv', sep=',', usecols=['timestamp','text'], parse_dates=['timestamp'], dtype={'text': str})"
   ]
  },
  {
   "cell_type": "code",
   "execution_count": 11,
   "metadata": {},
   "outputs": [
    {
     "data": {
      "text/html": [
       "<div>\n",
       "<style scoped>\n",
       "    .dataframe tbody tr th:only-of-type {\n",
       "        vertical-align: middle;\n",
       "    }\n",
       "\n",
       "    .dataframe tbody tr th {\n",
       "        vertical-align: top;\n",
       "    }\n",
       "\n",
       "    .dataframe thead th {\n",
       "        text-align: right;\n",
       "    }\n",
       "</style>\n",
       "<table border=\"1\" class=\"dataframe\">\n",
       "  <thead>\n",
       "    <tr style=\"text-align: right;\">\n",
       "      <th></th>\n",
       "      <th>timestamp</th>\n",
       "      <th>text</th>\n",
       "    </tr>\n",
       "  </thead>\n",
       "  <tbody>\n",
       "    <tr>\n",
       "      <th>18301011</th>\n",
       "      <td>2017-11-29 05:19:33+00:00</td>\n",
       "      <td>$BTCUSD #Bitcoin hits 10,0000 today,\\nhas made...</td>\n",
       "    </tr>\n",
       "    <tr>\n",
       "      <th>18301012</th>\n",
       "      <td>2019-02-04 02:12:55+00:00</td>\n",
       "      <td>#Bitcoin #blockchain  #cryptocurrency https://...</td>\n",
       "    </tr>\n",
       "    <tr>\n",
       "      <th>18301013</th>\n",
       "      <td>2018-09-15 16:10:01+00:00</td>\n",
       "      <td>Welcome to Bitcoin, newcomers! Here's your FAQ...</td>\n",
       "    </tr>\n",
       "    <tr>\n",
       "      <th>18301014</th>\n",
       "      <td>2019-08-29 14:18:24+00:00</td>\n",
       "      <td>投資やFX📈って興味あるけどなかなか手が進まない方は 以下のURLからの無料登録(要本人確認...</td>\n",
       "    </tr>\n",
       "    <tr>\n",
       "      <th>18301015</th>\n",
       "      <td>2018-11-13 03:08:51+00:00</td>\n",
       "      <td>Hasan Minhaj really came for the Bitcoin bros ...</td>\n",
       "    </tr>\n",
       "  </tbody>\n",
       "</table>\n",
       "</div>"
      ],
      "text/plain": [
       "                          timestamp  \\\n",
       "18301011  2017-11-29 05:19:33+00:00   \n",
       "18301012  2019-02-04 02:12:55+00:00   \n",
       "18301013  2018-09-15 16:10:01+00:00   \n",
       "18301014  2019-08-29 14:18:24+00:00   \n",
       "18301015  2018-11-13 03:08:51+00:00   \n",
       "\n",
       "                                                       text  \n",
       "18301011  $BTCUSD #Bitcoin hits 10,0000 today,\\nhas made...  \n",
       "18301012  #Bitcoin #blockchain  #cryptocurrency https://...  \n",
       "18301013  Welcome to Bitcoin, newcomers! Here's your FAQ...  \n",
       "18301014  投資やFX📈って興味あるけどなかなか手が進まない方は 以下のURLからの無料登録(要本人確認...  \n",
       "18301015  Hasan Minhaj really came for the Bitcoin bros ...  "
      ]
     },
     "execution_count": 11,
     "metadata": {},
     "output_type": "execute_result"
    }
   ],
   "source": [
    "df.tail()"
   ]
  },
  {
   "cell_type": "code",
   "execution_count": 12,
   "metadata": {},
   "outputs": [
    {
     "name": "stdout",
     "output_type": "stream",
     "text": [
      "<class 'pandas.core.frame.DataFrame'>\n",
      "RangeIndex: 18301016 entries, 0 to 18301015\n",
      "Data columns (total 2 columns):\n",
      " #   Column     Dtype \n",
      "---  ------     ----- \n",
      " 0   timestamp  object\n",
      " 1   text       object\n",
      "dtypes: object(2)\n",
      "memory usage: 279.3+ MB\n"
     ]
    }
   ],
   "source": [
    "df.info()"
   ]
  },
  {
   "cell_type": "markdown",
   "metadata": {},
   "source": [
    "============= Remove Missing Values ============="
   ]
  },
  {
   "cell_type": "code",
   "execution_count": 13,
   "metadata": {},
   "outputs": [],
   "source": [
    "# drop missing values\n",
    "df.dropna(inplace=True, axis=0)"
   ]
  },
  {
   "cell_type": "code",
   "execution_count": 14,
   "metadata": {},
   "outputs": [
    {
     "name": "stdout",
     "output_type": "stream",
     "text": [
      "<class 'pandas.core.frame.DataFrame'>\n",
      "Index: 18300265 entries, 0 to 18301015\n",
      "Data columns (total 2 columns):\n",
      " #   Column     Dtype \n",
      "---  ------     ----- \n",
      " 0   timestamp  object\n",
      " 1   text       object\n",
      "dtypes: object(2)\n",
      "memory usage: 418.9+ MB\n"
     ]
    }
   ],
   "source": [
    "df.info()"
   ]
  },
  {
   "cell_type": "markdown",
   "metadata": {},
   "source": [
    "============= Tweet Text Cleaning ============="
   ]
  },
  {
   "cell_type": "code",
   "execution_count": 18,
   "metadata": {},
   "outputs": [
    {
     "name": "stdout",
     "output_type": "stream",
     "text": [
      "                     timestamp  \\\n",
      "8    2019-05-27 11:49:32+00:00   \n",
      "9    2019-05-27 11:49:32+00:00   \n",
      "15   2019-05-10 14:06:01+00:00   \n",
      "20   2019-05-26 20:55:29+00:00   \n",
      "27   2019-05-27 11:49:45+00:00   \n",
      "..                         ...   \n",
      "716  2019-05-11 14:30:30+00:00   \n",
      "717  2019-05-11 15:01:36+00:00   \n",
      "725  2019-05-27 11:57:54+00:00   \n",
      "749  2019-05-27 11:58:19+00:00   \n",
      "752  2019-05-27 11:58:44+00:00   \n",
      "\n",
      "                                                  text  \n",
      "8    ブラジルはまぁ置いといてもドイツは存在感出してくるのかな。ロシアもマイニングなどで元気になる...  \n",
      "9    CHANGE IS COMING...GET READY!!! Boom, Another ...  \n",
      "15                                               share  \n",
      "20   $HOT $HOT $HOT 🍀\\n\\n🚀🚀🚀🚀🚀\\n\\n🔥🔥🔥🔥🔥 https://t.c...  \n",
      "27                                                 🤣🤣🤣  \n",
      "..                                                 ...  \n",
      "716                                          Nice Work  \n",
      "717                                                Kuy  \n",
      "725                            お願いします。\\n今後の値動き教えてください。  \n",
      "749          #QuarkChain #QKC #Blockchain @Quark_Chain  \n",
      "752  @snazziedebbie\\n@Garrycer\\n@YudirayD\\n@snazzie...  \n",
      "\n",
      "[100 rows x 2 columns]\n"
     ]
    }
   ],
   "source": [
    "# List of words to check\n",
    "words_to_exclude = ['btc', 'bitcoin']\n",
    "\n",
    "filtered_df = df[~df['text'].str.contains('|'.join(words_to_exclude), case=False)].head(100)\n",
    "\n",
    "# Display the result\n",
    "print(filtered_df)"
   ]
  },
  {
   "cell_type": "code",
   "execution_count": 21,
   "metadata": {},
   "outputs": [],
   "source": [
    "# !pip install certifi\n",
    "# !pip install demoji\n",
    "# !pip install emoji\n",
    "# !pip install nltk\n",
    "# !pip install pyenchant\n",
    "# !pip install pyspellchecker\n",
    "# !pip install spellchecker"
   ]
  },
  {
   "cell_type": "code",
   "execution_count": 25,
   "metadata": {},
   "outputs": [],
   "source": [
    "import re\n",
    "import demoji\n",
    "import unicodedata\n",
    "from spellchecker import SpellChecker\n",
    "from nltk.corpus import stopwords\n",
    "from nltk.tokenize import word_tokenize"
   ]
  },
  {
   "cell_type": "code",
   "execution_count": 2,
   "metadata": {},
   "outputs": [],
   "source": [
    "# Download NLTK resources (https://raw.githubusercontent.com/nltk/nltk_data/gh-pages/index.xml)\n",
    "import nltk\n",
    "\n",
    "# Downloaded NLTK data path\n",
    "nltk.data.path.append('data/nltk')\n",
    "\n",
    "# Download NLTK resources\n",
    "nltk.download('stopwords')\n",
    "nltk.download('punkt')"
   ]
  },
  {
   "cell_type": "code",
   "execution_count": 33,
   "metadata": {},
   "outputs": [],
   "source": [
    "# Load English stop words\n",
    "stop_words = set(stopwords.words('english'))\n",
    "\n",
    "def clean_text(text):\n",
    "    # Remove URLs\n",
    "    text = re.sub(r\"http\\S+\", \"\", text)\n",
    "\n",
    "    # Unicode Normalization\n",
    "    text = unicodedata.normalize('NFKD', text)\n",
    "\n",
    "    # Remove Emoji\n",
    "    text = demoji.replace_with_desc(text, sep=' ')\n",
    "\n",
    "    # Remove non-alphanumeric characters and extra whitespaces\n",
    "    text = re.sub(r'[^a-zA-Z\\s]', '', text)\n",
    "    text = re.sub(' +', ' ', text)\n",
    "\n",
    "    # # Convert to lowercase\n",
    "    # text = text.lower()\n",
    "\n",
    "    # # Tokenize text\n",
    "    # words = word_tokenize(text)\n",
    "\n",
    "    # # Remove stopword\n",
    "    # words = [word for word in words if word not in stop_words]\n",
    "\n",
    "    # # Spelling Correction\n",
    "    # spell = SpellChecker()\n",
    "    # words = [spell.correction(word) for word in words if word is not None]  # Filter out None values\n",
    "\n",
    "    # # Reassemble text\n",
    "    # cleaned_text = ' '.join(filter(None, words))  # Filter out None values\n",
    "\n",
    "    return text"
   ]
  },
  {
   "cell_type": "code",
   "execution_count": 34,
   "metadata": {},
   "outputs": [],
   "source": [
    "from joblib import Parallel, delayed\n",
    "\n",
    "# Number of processes to use (adjust as needed)\n",
    "num_processes = 7\n",
    "\n",
    "def parallelize_dataframe(df, func):\n",
    "    return Parallel(n_jobs=num_processes)(delayed(func)(text) for text in df['text'])"
   ]
  },
  {
   "cell_type": "code",
   "execution_count": 36,
   "metadata": {},
   "outputs": [],
   "source": [
    "# Apply the cleaning function in parallel\n",
    "df['cleaned_text'] = parallelize_dataframe(df, clean_text)"
   ]
  },
  {
   "cell_type": "code",
   "execution_count": 37,
   "metadata": {},
   "outputs": [
    {
     "data": {
      "text/html": [
       "<div>\n",
       "<style scoped>\n",
       "    .dataframe tbody tr th:only-of-type {\n",
       "        vertical-align: middle;\n",
       "    }\n",
       "\n",
       "    .dataframe tbody tr th {\n",
       "        vertical-align: top;\n",
       "    }\n",
       "\n",
       "    .dataframe thead th {\n",
       "        text-align: right;\n",
       "    }\n",
       "</style>\n",
       "<table border=\"1\" class=\"dataframe\">\n",
       "  <thead>\n",
       "    <tr style=\"text-align: right;\">\n",
       "      <th></th>\n",
       "      <th>timestamp</th>\n",
       "      <th>text</th>\n",
       "      <th>cleaned_text</th>\n",
       "    </tr>\n",
       "  </thead>\n",
       "  <tbody>\n",
       "    <tr>\n",
       "      <th>0</th>\n",
       "      <td>2019-05-27 11:49:14+00:00</td>\n",
       "      <td>È appena uscito un nuovo video! LES CRYPTOMONN...</td>\n",
       "      <td>E appena uscito un nuovo video LES CRYPTOMONNA...</td>\n",
       "    </tr>\n",
       "    <tr>\n",
       "      <th>1</th>\n",
       "      <td>2019-05-27 11:49:18+00:00</td>\n",
       "      <td>Cardano: Digitize Currencies; EOS https://t.co...</td>\n",
       "      <td>Cardano Digitize Currencies EOS ROI ATampT Bit...</td>\n",
       "    </tr>\n",
       "    <tr>\n",
       "      <th>2</th>\n",
       "      <td>2019-05-27 11:49:06+00:00</td>\n",
       "      <td>Another Test tweet that wasn't caught in the s...</td>\n",
       "      <td>Another Test tweet that wasnt caught in the st...</td>\n",
       "    </tr>\n",
       "    <tr>\n",
       "      <th>3</th>\n",
       "      <td>2019-05-27 11:49:22+00:00</td>\n",
       "      <td>Current Crypto Prices! \\n\\nBTC: $8721.99 USD\\n...</td>\n",
       "      <td>Current Crypto Prices \\n\\nBTC USD\\nETH USD\\nLT...</td>\n",
       "    </tr>\n",
       "    <tr>\n",
       "      <th>4</th>\n",
       "      <td>2019-05-27 11:49:23+00:00</td>\n",
       "      <td>Spiv (Nosar Baz): BITCOIN Is An Asset &amp;amp; NO...</td>\n",
       "      <td>Spiv Nosar Baz BITCOIN Is An Asset amp NOT A C...</td>\n",
       "    </tr>\n",
       "  </tbody>\n",
       "</table>\n",
       "</div>"
      ],
      "text/plain": [
       "                   timestamp  \\\n",
       "0  2019-05-27 11:49:14+00:00   \n",
       "1  2019-05-27 11:49:18+00:00   \n",
       "2  2019-05-27 11:49:06+00:00   \n",
       "3  2019-05-27 11:49:22+00:00   \n",
       "4  2019-05-27 11:49:23+00:00   \n",
       "\n",
       "                                                text  \\\n",
       "0  È appena uscito un nuovo video! LES CRYPTOMONN...   \n",
       "1  Cardano: Digitize Currencies; EOS https://t.co...   \n",
       "2  Another Test tweet that wasn't caught in the s...   \n",
       "3  Current Crypto Prices! \\n\\nBTC: $8721.99 USD\\n...   \n",
       "4  Spiv (Nosar Baz): BITCOIN Is An Asset &amp; NO...   \n",
       "\n",
       "                                        cleaned_text  \n",
       "0  E appena uscito un nuovo video LES CRYPTOMONNA...  \n",
       "1  Cardano Digitize Currencies EOS ROI ATampT Bit...  \n",
       "2  Another Test tweet that wasnt caught in the st...  \n",
       "3  Current Crypto Prices \\n\\nBTC USD\\nETH USD\\nLT...  \n",
       "4  Spiv Nosar Baz BITCOIN Is An Asset amp NOT A C...  "
      ]
     },
     "execution_count": 37,
     "metadata": {},
     "output_type": "execute_result"
    }
   ],
   "source": [
    "df.head()"
   ]
  },
  {
   "cell_type": "code",
   "execution_count": null,
   "metadata": {},
   "outputs": [],
   "source": [
    "# %reset -f"
   ]
  }
 ],
 "metadata": {
  "kernelspec": {
   "display_name": "Python 3",
   "language": "python",
   "name": "python3"
  },
  "language_info": {
   "codemirror_mode": {
    "name": "ipython",
    "version": 3
   },
   "file_extension": ".py",
   "mimetype": "text/x-python",
   "name": "python",
   "nbconvert_exporter": "python",
   "pygments_lexer": "ipython3",
   "version": "3.12.0"
  },
  "orig_nbformat": 4
 },
 "nbformat": 4,
 "nbformat_minor": 2
}
